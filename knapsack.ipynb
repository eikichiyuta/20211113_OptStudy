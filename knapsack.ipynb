{
 "cells": [
  {
   "cell_type": "markdown",
   "metadata": {},
   "source": [
    "## 最適化に入る前に\n"
   ]
  },
  {
   "cell_type": "code",
   "execution_count": 3,
   "metadata": {},
   "outputs": [
    {
     "data": {
      "text/plain": [
       "[1, 4, 9, 16, 25]"
      ]
     },
     "execution_count": 3,
     "metadata": {},
     "output_type": "execute_result"
    }
   ],
   "source": [
    "# 普通のリスト\n",
    "list1 = [1, 2, 3, 4, 5]\n",
    "\n",
    "# 各要素を2乗したリストを作る➀\n",
    "list2 = []\n",
    "for i in list1:\n",
    "    list2.append(i**2)\n",
    "\n",
    "list2"
   ]
  },
  {
   "cell_type": "code",
   "execution_count": 4,
   "metadata": {},
   "outputs": [
    {
     "data": {
      "text/plain": [
       "[1, 4, 9, 16, 25]"
      ]
     },
     "execution_count": 4,
     "metadata": {},
     "output_type": "execute_result"
    }
   ],
   "source": [
    "# 各要素を2乗したリストを作る➁\n",
    "list3 = [i**2 for i in list1]\n",
    "list3"
   ]
  },
  {
   "cell_type": "code",
   "execution_count": 5,
   "metadata": {},
   "outputs": [
    {
     "data": {
      "text/plain": [
       "200"
      ]
     },
     "execution_count": 5,
     "metadata": {},
     "output_type": "execute_result"
    }
   ],
   "source": [
    "# 辞書\n",
    "# キー：値という関係が保持される\n",
    "price_dict = {\n",
    "    'apple':100,\n",
    "    'banana':200,\n",
    "    'orange':300\n",
    "}\n",
    "\n",
    "# キーを指定すると値を参照できる\n",
    "price_dict['banana']"
   ]
  },
  {
   "cell_type": "code",
   "execution_count": 6,
   "metadata": {},
   "outputs": [
    {
     "data": {
      "text/plain": [
       "4"
      ]
     },
     "execution_count": 6,
     "metadata": {},
     "output_type": "execute_result"
    }
   ],
   "source": [
    "# もう一つ作っておく\n",
    "# 数量を表す辞書\n",
    "qty_dict = {\n",
    "    'apple':2,\n",
    "    'banana':4,\n",
    "    'orange':3\n",
    "}\n",
    "\n",
    "qty_dict['banana']"
   ]
  },
  {
   "cell_type": "code",
   "execution_count": 7,
   "metadata": {},
   "outputs": [
    {
     "data": {
      "text/plain": [
       "['apple', 'banana', 'orange']"
      ]
     },
     "execution_count": 7,
     "metadata": {},
     "output_type": "execute_result"
    }
   ],
   "source": [
    "# キーだけ、値だけを取り出すことも可能\n",
    "fruits = list(qty_dict.keys())\n",
    "fruits"
   ]
  },
  {
   "cell_type": "code",
   "execution_count": 8,
   "metadata": {},
   "outputs": [
    {
     "data": {
      "text/plain": [
       "1900"
      ]
     },
     "execution_count": 8,
     "metadata": {},
     "output_type": "execute_result"
    }
   ],
   "source": [
    "# 最適化で頻出！積の和をとる\n",
    "# それぞれの果物について価格×数量を計算し、その合計を計算している\n",
    "sum( price_dict[fruit] * qty_dict[fruit] for fruit in fruits )"
   ]
  },
  {
   "cell_type": "markdown",
   "metadata": {},
   "source": [
    "## データの読み込みと加工\n",
    "今回は、架空のお菓子のカロリーと価格が載ったデータを扱います。  \n",
    "数理最適化によって、予算内でなるべくたくさんのカロリーを摂取することを目指します！"
   ]
  },
  {
   "cell_type": "code",
   "execution_count": 9,
   "metadata": {},
   "outputs": [],
   "source": [
    "import pandas as pd\n",
    "from pulp import *      # 毎回「pulp.~」と書くのが面倒なのでこうしています"
   ]
  },
  {
   "cell_type": "code",
   "execution_count": 12,
   "metadata": {},
   "outputs": [
    {
     "data": {
      "text/html": [
       "<div>\n",
       "<style scoped>\n",
       "    .dataframe tbody tr th:only-of-type {\n",
       "        vertical-align: middle;\n",
       "    }\n",
       "\n",
       "    .dataframe tbody tr th {\n",
       "        vertical-align: top;\n",
       "    }\n",
       "\n",
       "    .dataframe thead th {\n",
       "        text-align: right;\n",
       "    }\n",
       "</style>\n",
       "<table border=\"1\" class=\"dataframe\">\n",
       "  <thead>\n",
       "    <tr style=\"text-align: right;\">\n",
       "      <th></th>\n",
       "      <th>name</th>\n",
       "      <th>kcal</th>\n",
       "      <th>price</th>\n",
       "    </tr>\n",
       "  </thead>\n",
       "  <tbody>\n",
       "    <tr>\n",
       "      <th>0</th>\n",
       "      <td>カンガルーのマーチ</td>\n",
       "      <td>336</td>\n",
       "      <td>84</td>\n",
       "    </tr>\n",
       "    <tr>\n",
       "      <th>1</th>\n",
       "      <td>コートジボワールチョコ</td>\n",
       "      <td>309</td>\n",
       "      <td>96</td>\n",
       "    </tr>\n",
       "    <tr>\n",
       "      <th>2</th>\n",
       "      <td>ガプリコ</td>\n",
       "      <td>194</td>\n",
       "      <td>102</td>\n",
       "    </tr>\n",
       "    <tr>\n",
       "      <th>3</th>\n",
       "      <td>バッケス</td>\n",
       "      <td>336</td>\n",
       "      <td>198</td>\n",
       "    </tr>\n",
       "    <tr>\n",
       "      <th>4</th>\n",
       "      <td>ハコダテポテト</td>\n",
       "      <td>446</td>\n",
       "      <td>120</td>\n",
       "    </tr>\n",
       "    <tr>\n",
       "      <th>5</th>\n",
       "      <td>いもりこ</td>\n",
       "      <td>299</td>\n",
       "      <td>120</td>\n",
       "    </tr>\n",
       "    <tr>\n",
       "      <th>6</th>\n",
       "      <td>かっぱかにせん</td>\n",
       "      <td>486</td>\n",
       "      <td>120</td>\n",
       "    </tr>\n",
       "    <tr>\n",
       "      <th>7</th>\n",
       "      <td>フェネットグミ</td>\n",
       "      <td>166</td>\n",
       "      <td>100</td>\n",
       "    </tr>\n",
       "    <tr>\n",
       "      <th>8</th>\n",
       "      <td>アルツート</td>\n",
       "      <td>344</td>\n",
       "      <td>102</td>\n",
       "    </tr>\n",
       "    <tr>\n",
       "      <th>9</th>\n",
       "      <td>ハッピータン</td>\n",
       "      <td>348</td>\n",
       "      <td>98</td>\n",
       "    </tr>\n",
       "    <tr>\n",
       "      <th>10</th>\n",
       "      <td>柿の素</td>\n",
       "      <td>209</td>\n",
       "      <td>280</td>\n",
       "    </tr>\n",
       "    <tr>\n",
       "      <th>11</th>\n",
       "      <td>たべっ子アニマル</td>\n",
       "      <td>330</td>\n",
       "      <td>98</td>\n",
       "    </tr>\n",
       "    <tr>\n",
       "      <th>12</th>\n",
       "      <td>あんドーナツ</td>\n",
       "      <td>387</td>\n",
       "      <td>108</td>\n",
       "    </tr>\n",
       "    <tr>\n",
       "      <th>13</th>\n",
       "      <td>かば焼き様</td>\n",
       "      <td>10</td>\n",
       "      <td>11</td>\n",
       "    </tr>\n",
       "    <tr>\n",
       "      <th>14</th>\n",
       "      <td>キャベツ次郎</td>\n",
       "      <td>520</td>\n",
       "      <td>110</td>\n",
       "    </tr>\n",
       "    <tr>\n",
       "      <th>15</th>\n",
       "      <td>モンゴルヨーグル</td>\n",
       "      <td>25</td>\n",
       "      <td>22</td>\n",
       "    </tr>\n",
       "    <tr>\n",
       "      <th>16</th>\n",
       "      <td>しんがりコーン</td>\n",
       "      <td>409</td>\n",
       "      <td>147</td>\n",
       "    </tr>\n",
       "  </tbody>\n",
       "</table>\n",
       "</div>"
      ],
      "text/plain": [
       "           name  kcal  price\n",
       "0     カンガルーのマーチ   336     84\n",
       "1   コートジボワールチョコ   309     96\n",
       "2          ガプリコ   194    102\n",
       "3          バッケス   336    198\n",
       "4       ハコダテポテト   446    120\n",
       "5          いもりこ   299    120\n",
       "6       かっぱかにせん   486    120\n",
       "7       フェネットグミ   166    100\n",
       "8         アルツート   344    102\n",
       "9        ハッピータン   348     98\n",
       "10          柿の素   209    280\n",
       "11     たべっ子アニマル   330     98\n",
       "12       あんドーナツ   387    108\n",
       "13        かば焼き様    10     11\n",
       "14       キャベツ次郎   520    110\n",
       "15     モンゴルヨーグル    25     22\n",
       "16      しんがりコーン   409    147"
      ]
     },
     "execution_count": 12,
     "metadata": {},
     "output_type": "execute_result"
    }
   ],
   "source": [
    "# データの読み込み\n",
    "df = pd.read_csv('knapsack_data.csv')\n",
    "df"
   ]
  },
  {
   "cell_type": "code",
   "execution_count": 13,
   "metadata": {},
   "outputs": [
    {
     "data": {
      "text/html": [
       "<div>\n",
       "<style scoped>\n",
       "    .dataframe tbody tr th:only-of-type {\n",
       "        vertical-align: middle;\n",
       "    }\n",
       "\n",
       "    .dataframe tbody tr th {\n",
       "        vertical-align: top;\n",
       "    }\n",
       "\n",
       "    .dataframe thead th {\n",
       "        text-align: right;\n",
       "    }\n",
       "</style>\n",
       "<table border=\"1\" class=\"dataframe\">\n",
       "  <thead>\n",
       "    <tr style=\"text-align: right;\">\n",
       "      <th></th>\n",
       "      <th>name</th>\n",
       "      <th>kcal</th>\n",
       "      <th>price</th>\n",
       "    </tr>\n",
       "  </thead>\n",
       "  <tbody>\n",
       "    <tr>\n",
       "      <th>14</th>\n",
       "      <td>キャベツ次郎</td>\n",
       "      <td>520</td>\n",
       "      <td>110</td>\n",
       "    </tr>\n",
       "    <tr>\n",
       "      <th>6</th>\n",
       "      <td>かっぱかにせん</td>\n",
       "      <td>486</td>\n",
       "      <td>120</td>\n",
       "    </tr>\n",
       "    <tr>\n",
       "      <th>4</th>\n",
       "      <td>ハコダテポテト</td>\n",
       "      <td>446</td>\n",
       "      <td>120</td>\n",
       "    </tr>\n",
       "    <tr>\n",
       "      <th>16</th>\n",
       "      <td>しんがりコーン</td>\n",
       "      <td>409</td>\n",
       "      <td>147</td>\n",
       "    </tr>\n",
       "    <tr>\n",
       "      <th>12</th>\n",
       "      <td>あんドーナツ</td>\n",
       "      <td>387</td>\n",
       "      <td>108</td>\n",
       "    </tr>\n",
       "    <tr>\n",
       "      <th>9</th>\n",
       "      <td>ハッピータン</td>\n",
       "      <td>348</td>\n",
       "      <td>98</td>\n",
       "    </tr>\n",
       "    <tr>\n",
       "      <th>8</th>\n",
       "      <td>アルツート</td>\n",
       "      <td>344</td>\n",
       "      <td>102</td>\n",
       "    </tr>\n",
       "    <tr>\n",
       "      <th>3</th>\n",
       "      <td>バッケス</td>\n",
       "      <td>336</td>\n",
       "      <td>198</td>\n",
       "    </tr>\n",
       "    <tr>\n",
       "      <th>0</th>\n",
       "      <td>カンガルーのマーチ</td>\n",
       "      <td>336</td>\n",
       "      <td>84</td>\n",
       "    </tr>\n",
       "    <tr>\n",
       "      <th>11</th>\n",
       "      <td>たべっ子アニマル</td>\n",
       "      <td>330</td>\n",
       "      <td>98</td>\n",
       "    </tr>\n",
       "    <tr>\n",
       "      <th>1</th>\n",
       "      <td>コートジボワールチョコ</td>\n",
       "      <td>309</td>\n",
       "      <td>96</td>\n",
       "    </tr>\n",
       "    <tr>\n",
       "      <th>5</th>\n",
       "      <td>いもりこ</td>\n",
       "      <td>299</td>\n",
       "      <td>120</td>\n",
       "    </tr>\n",
       "    <tr>\n",
       "      <th>10</th>\n",
       "      <td>柿の素</td>\n",
       "      <td>209</td>\n",
       "      <td>280</td>\n",
       "    </tr>\n",
       "    <tr>\n",
       "      <th>2</th>\n",
       "      <td>ガプリコ</td>\n",
       "      <td>194</td>\n",
       "      <td>102</td>\n",
       "    </tr>\n",
       "    <tr>\n",
       "      <th>7</th>\n",
       "      <td>フェネットグミ</td>\n",
       "      <td>166</td>\n",
       "      <td>100</td>\n",
       "    </tr>\n",
       "    <tr>\n",
       "      <th>15</th>\n",
       "      <td>モンゴルヨーグル</td>\n",
       "      <td>25</td>\n",
       "      <td>22</td>\n",
       "    </tr>\n",
       "    <tr>\n",
       "      <th>13</th>\n",
       "      <td>かば焼き様</td>\n",
       "      <td>10</td>\n",
       "      <td>11</td>\n",
       "    </tr>\n",
       "  </tbody>\n",
       "</table>\n",
       "</div>"
      ],
      "text/plain": [
       "           name  kcal  price\n",
       "14       キャベツ次郎   520    110\n",
       "6       かっぱかにせん   486    120\n",
       "4       ハコダテポテト   446    120\n",
       "16      しんがりコーン   409    147\n",
       "12       あんドーナツ   387    108\n",
       "9        ハッピータン   348     98\n",
       "8         アルツート   344    102\n",
       "3          バッケス   336    198\n",
       "0     カンガルーのマーチ   336     84\n",
       "11     たべっ子アニマル   330     98\n",
       "1   コートジボワールチョコ   309     96\n",
       "5          いもりこ   299    120\n",
       "10          柿の素   209    280\n",
       "2          ガプリコ   194    102\n",
       "7       フェネットグミ   166    100\n",
       "15     モンゴルヨーグル    25     22\n",
       "13        かば焼き様    10     11"
      ]
     },
     "execution_count": 13,
     "metadata": {},
     "output_type": "execute_result"
    }
   ],
   "source": [
    "# カロリーが高いのは？\n",
    "df.sort_values('kcal', ascending=False)"
   ]
  },
  {
   "cell_type": "code",
   "execution_count": 14,
   "metadata": {},
   "outputs": [
    {
     "data": {
      "text/plain": [
       "{'カンガルーのマーチ': {'kcal': 336, 'price': 84},\n",
       " 'コートジボワールチョコ': {'kcal': 309, 'price': 96},\n",
       " 'ガプリコ': {'kcal': 194, 'price': 102},\n",
       " 'バッケス': {'kcal': 336, 'price': 198},\n",
       " 'ハコダテポテト': {'kcal': 446, 'price': 120},\n",
       " 'いもりこ': {'kcal': 299, 'price': 120},\n",
       " 'かっぱかにせん': {'kcal': 486, 'price': 120},\n",
       " 'フェネットグミ': {'kcal': 166, 'price': 100},\n",
       " 'アルツート': {'kcal': 344, 'price': 102},\n",
       " 'ハッピータン': {'kcal': 348, 'price': 98},\n",
       " '柿の素': {'kcal': 209, 'price': 280},\n",
       " 'たべっ子アニマル': {'kcal': 330, 'price': 98},\n",
       " 'あんドーナツ': {'kcal': 387, 'price': 108},\n",
       " 'かば焼き様': {'kcal': 10, 'price': 11},\n",
       " 'キャベツ次郎': {'kcal': 520, 'price': 110},\n",
       " 'モンゴルヨーグル': {'kcal': 25, 'price': 22},\n",
       " 'しんがりコーン': {'kcal': 409, 'price': 147}}"
      ]
     },
     "execution_count": 14,
     "metadata": {},
     "output_type": "execute_result"
    }
   ],
   "source": [
    "# 最適化で記述しやすいように、辞書にしておきます\n",
    "snack = df.set_index('name').to_dict(orient='index')\n",
    "snack"
   ]
  },
  {
   "cell_type": "code",
   "execution_count": 15,
   "metadata": {},
   "outputs": [
    {
     "name": "stdout",
     "output_type": "stream",
     "text": [
      "299\n",
      "120\n"
     ]
    }
   ],
   "source": [
    "# お菓子の名前と属性を指定すれば値を参照できます\n",
    "print(snack['いもりこ']['kcal'])\n",
    "print(snack['いもりこ']['price'])"
   ]
  },
  {
   "cell_type": "markdown",
   "metadata": {},
   "source": [
    "## 最適化モデルの作成\n",
    "いよいよ最適化に入ります。データと予算を渡すと解いた結果を返してくれる関数にしましょう"
   ]
  },
  {
   "cell_type": "code",
   "execution_count": null,
   "metadata": {},
   "outputs": [],
   "source": [
    "def optimize(snack, budget=500):\n",
    "\n",
    "    # モデルのインスタンス化\n",
    "    \n",
    "\n",
    "    # 商品のリスト\n",
    "    \n",
    "\n",
    "    # 決定変数\n",
    "    # お菓子iを入れるか否か\n",
    "   \n",
    "\n",
    "    # 制約条件\n",
    "    # 入れるお菓子の価格の合計が予算を超えない\n",
    "    \n",
    "\n",
    "    # 目的関数\n",
    "    # 入れるお菓子のカロリーの合計\n",
    "    \n",
    "\n",
    "    # 解く\n",
    "    \n",
    "\n",
    "    return 'hoge', 'hoge'"
   ]
  },
  {
   "cell_type": "code",
   "execution_count": null,
   "metadata": {},
   "outputs": [],
   "source": [
    "# 関数を使ってみる\n",
    "x, TotalCal = optimize(snack, 500)\n",
    "TotalCal"
   ]
  },
  {
   "cell_type": "markdown",
   "metadata": {},
   "source": [
    "## 結果の確認"
   ]
  },
  {
   "cell_type": "code",
   "execution_count": null,
   "metadata": {},
   "outputs": [],
   "source": [
    "# どのお菓子を入れるのか、辞書にする\n",
    "solution = {}\n",
    "for i in snack.keys():\n",
    "    solution[i] = x[i].value()\n",
    "\n",
    "solution"
   ]
  },
  {
   "cell_type": "code",
   "execution_count": null,
   "metadata": {},
   "outputs": [],
   "source": [
    "# 最初のデータフレームに追加する\n",
    "df['buy'] = df['name'].map(solution)\n",
    "df"
   ]
  },
  {
   "cell_type": "code",
   "execution_count": null,
   "metadata": {},
   "outputs": [],
   "source": [
    "# コスパを出してみましょう\n",
    "# 多分コスパ高いお菓子が入りやすくなっている　→　貪欲法の話\n",
    "df['kcal_per_price'] = df.kcal / df.price\n",
    "df.sort_values('kcal_per_price', ascending=False)"
   ]
  },
  {
   "cell_type": "code",
   "execution_count": null,
   "metadata": {},
   "outputs": [],
   "source": []
  }
 ],
 "metadata": {
  "interpreter": {
   "hash": "47869785ae8827baf89d30095170178169bd67a09f8d05541fe4e40b59d2fd26"
  },
  "kernelspec": {
   "display_name": "Python 3 (ipykernel)",
   "language": "python",
   "name": "python3"
  },
  "language_info": {
   "codemirror_mode": {
    "name": "ipython",
    "version": 3
   },
   "file_extension": ".py",
   "mimetype": "text/x-python",
   "name": "python",
   "nbconvert_exporter": "python",
   "pygments_lexer": "ipython3",
   "version": "3.7.4"
  }
 },
 "nbformat": 4,
 "nbformat_minor": 2
}
