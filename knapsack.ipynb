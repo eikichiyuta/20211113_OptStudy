{
 "cells": [
  {
   "cell_type": "markdown",
   "metadata": {},
   "source": [
    "## 最適化に入る前に\n"
   ]
  },
  {
   "cell_type": "code",
   "execution_count": null,
   "metadata": {},
   "outputs": [],
   "source": [
    "# 普通のリスト\n",
    "list1 = [1, 2, 3, 4, 5]\n",
    "\n",
    "# 各要素を2乗したリストを作る➀\n",
    "list2 = []\n",
    "for i in list1:\n",
    "    list2.append(i**2)\n",
    "\n",
    "list2"
   ]
  },
  {
   "cell_type": "code",
   "execution_count": null,
   "metadata": {},
   "outputs": [],
   "source": [
    "# 各要素を2乗したリストを作る➁\n",
    "list3 = [i**2 for i in list1]\n",
    "list3"
   ]
  },
  {
   "cell_type": "code",
   "execution_count": null,
   "metadata": {},
   "outputs": [],
   "source": [
    "# 辞書\n",
    "# キー：値という関係が保持される\n",
    "price_dict = {\n",
    "    'apple':100,\n",
    "    'banana':200,\n",
    "    'orange':300\n",
    "}\n",
    "\n",
    "# キーを指定すると値を参照できる\n",
    "price_dict['banana']"
   ]
  },
  {
   "cell_type": "code",
   "execution_count": null,
   "metadata": {},
   "outputs": [],
   "source": [
    "# もう一つ作っておく\n",
    "# 数量を表す辞書\n",
    "qty_dict = {\n",
    "    'apple':2,\n",
    "    'banana':4,\n",
    "    'orange':3\n",
    "}\n",
    "\n",
    "qty_dict['banana']"
   ]
  },
  {
   "cell_type": "code",
   "execution_count": null,
   "metadata": {},
   "outputs": [],
   "source": [
    "# キーだけ、値だけを取り出すことも可能\n",
    "fruits = list(qty_dict.keys())\n",
    "fruits"
   ]
  },
  {
   "cell_type": "code",
   "execution_count": null,
   "metadata": {},
   "outputs": [],
   "source": [
    "# 最適化で頻出！積の和をとる\n",
    "# それぞれの果物について価格×数量を計算し、その合計を計算している\n",
    "sum( price_dict[fruit] * qty_dict[fruit] for fruit in fruits )"
   ]
  },
  {
   "cell_type": "markdown",
   "metadata": {},
   "source": [
    "## データの読み込みと加工\n",
    "今回は、架空のお菓子のカロリーと価格が載ったデータを扱います。  \n",
    "数理最適化によって、予算内でなるべくたくさんのカロリーを摂取することを目指します！"
   ]
  },
  {
   "cell_type": "code",
   "execution_count": 1,
   "metadata": {},
   "outputs": [],
   "source": [
    "import pandas as pd\n",
    "from pulp import *      # 毎回「pulp.~」と書くのが面倒なのでこうしています"
   ]
  },
  {
   "cell_type": "code",
   "execution_count": 2,
   "metadata": {},
   "outputs": [
    {
     "data": {
      "text/html": [
       "<div>\n",
       "<style scoped>\n",
       "    .dataframe tbody tr th:only-of-type {\n",
       "        vertical-align: middle;\n",
       "    }\n",
       "\n",
       "    .dataframe tbody tr th {\n",
       "        vertical-align: top;\n",
       "    }\n",
       "\n",
       "    .dataframe thead th {\n",
       "        text-align: right;\n",
       "    }\n",
       "</style>\n",
       "<table border=\"1\" class=\"dataframe\">\n",
       "  <thead>\n",
       "    <tr style=\"text-align: right;\">\n",
       "      <th></th>\n",
       "      <th>pid</th>\n",
       "      <th>pref</th>\n",
       "      <th>cid</th>\n",
       "      <th>city</th>\n",
       "      <th>citykana</th>\n",
       "      <th>lat</th>\n",
       "      <th>lng</th>\n",
       "      <th>url</th>\n",
       "      <th>phrase</th>\n",
       "    </tr>\n",
       "  </thead>\n",
       "  <tbody>\n",
       "    <tr>\n",
       "      <th>0</th>\n",
       "      <td>1</td>\n",
       "      <td>北海道</td>\n",
       "      <td>1100</td>\n",
       "      <td>札幌市</td>\n",
       "      <td>さっぽろし</td>\n",
       "      <td>43.062089</td>\n",
       "      <td>141.354389</td>\n",
       "      <td>https://www.city.sapporo.jp/</td>\n",
       "      <td>市民の力みなぎる、文化と誇りあふれる街</td>\n",
       "    </tr>\n",
       "    <tr>\n",
       "      <th>1</th>\n",
       "      <td>1</td>\n",
       "      <td>北海道</td>\n",
       "      <td>1101</td>\n",
       "      <td>札幌市 中央区</td>\n",
       "      <td>さっぽろし ちゅうおうく</td>\n",
       "      <td>43.055386</td>\n",
       "      <td>141.340967</td>\n",
       "      <td>https://www.city.sapporo.jp/chuo/</td>\n",
       "      <td>市電のふるさと中央区</td>\n",
       "    </tr>\n",
       "    <tr>\n",
       "      <th>2</th>\n",
       "      <td>1</td>\n",
       "      <td>北海道</td>\n",
       "      <td>1102</td>\n",
       "      <td>札幌市 北区</td>\n",
       "      <td>さっぽろし きたく</td>\n",
       "      <td>43.090793</td>\n",
       "      <td>141.340881</td>\n",
       "      <td>https://www.city.sapporo.jp/kitaku/</td>\n",
       "      <td>みてきて北区</td>\n",
       "    </tr>\n",
       "    <tr>\n",
       "      <th>3</th>\n",
       "      <td>1</td>\n",
       "      <td>北海道</td>\n",
       "      <td>1103</td>\n",
       "      <td>札幌市 東区</td>\n",
       "      <td>さっぽろし ひがしく</td>\n",
       "      <td>43.076111</td>\n",
       "      <td>141.363611</td>\n",
       "      <td>https://www.city.sapporo.jp/higashi/</td>\n",
       "      <td>ようこそひがしく</td>\n",
       "    </tr>\n",
       "    <tr>\n",
       "      <th>4</th>\n",
       "      <td>1</td>\n",
       "      <td>北海道</td>\n",
       "      <td>1104</td>\n",
       "      <td>札幌市 白石区</td>\n",
       "      <td>さっぽろし しろいしく</td>\n",
       "      <td>43.047569</td>\n",
       "      <td>141.405220</td>\n",
       "      <td>https://www.city.sapporo.jp/shiroishi/</td>\n",
       "      <td>おもしろいしWEB</td>\n",
       "    </tr>\n",
       "    <tr>\n",
       "      <th>...</th>\n",
       "      <td>...</td>\n",
       "      <td>...</td>\n",
       "      <td>...</td>\n",
       "      <td>...</td>\n",
       "      <td>...</td>\n",
       "      <td>...</td>\n",
       "      <td>...</td>\n",
       "      <td>...</td>\n",
       "      <td>...</td>\n",
       "    </tr>\n",
       "    <tr>\n",
       "      <th>1911</th>\n",
       "      <td>47</td>\n",
       "      <td>沖縄県</td>\n",
       "      <td>47361</td>\n",
       "      <td>久米島町</td>\n",
       "      <td>くめじまちょう</td>\n",
       "      <td>26.340833</td>\n",
       "      <td>126.805000</td>\n",
       "      <td>http://www.town.kumejima.okinawa.jp/</td>\n",
       "      <td>ラムサール条約登録の地　活力・潤い・文化を創造する元気なまち－久米島－</td>\n",
       "    </tr>\n",
       "    <tr>\n",
       "      <th>1912</th>\n",
       "      <td>47</td>\n",
       "      <td>沖縄県</td>\n",
       "      <td>47362</td>\n",
       "      <td>八重瀬町</td>\n",
       "      <td>やえせちょう</td>\n",
       "      <td>26.121667</td>\n",
       "      <td>127.742500</td>\n",
       "      <td>https://www.town.yaese.lg.jp/</td>\n",
       "      <td>大地の活力とうまんちゅの魂が創り出す自然共生の清らまち</td>\n",
       "    </tr>\n",
       "    <tr>\n",
       "      <th>1913</th>\n",
       "      <td>47</td>\n",
       "      <td>沖縄県</td>\n",
       "      <td>47375</td>\n",
       "      <td>多良間村</td>\n",
       "      <td>たらまそん</td>\n",
       "      <td>24.669444</td>\n",
       "      <td>124.701667</td>\n",
       "      <td>http://www.vill.tarama.okinawa.jp/</td>\n",
       "      <td>～南洋に浮かぶ癒しの島～　自らの力を結集し村民参加による心豊かで活力ある村づくり</td>\n",
       "    </tr>\n",
       "    <tr>\n",
       "      <th>1914</th>\n",
       "      <td>47</td>\n",
       "      <td>沖縄県</td>\n",
       "      <td>47381</td>\n",
       "      <td>竹富町</td>\n",
       "      <td>たけとみちょう</td>\n",
       "      <td>24.339722</td>\n",
       "      <td>124.154444</td>\n",
       "      <td>https://www.town.taketomi.lg.jp/</td>\n",
       "      <td>海と空の真ん中に、笑顔にあふれるふくらしがある。　日本最南端の大自然と文化のまち</td>\n",
       "    </tr>\n",
       "    <tr>\n",
       "      <th>1915</th>\n",
       "      <td>47</td>\n",
       "      <td>沖縄県</td>\n",
       "      <td>47382</td>\n",
       "      <td>与那国町</td>\n",
       "      <td>よなぐにちょう</td>\n",
       "      <td>24.468056</td>\n",
       "      <td>123.004722</td>\n",
       "      <td>https://www.town.yonaguni.okinawa.jp/</td>\n",
       "      <td>日本最西端の島 与那国町　健やかな自然・人・生活を育む島 ドゥナン</td>\n",
       "    </tr>\n",
       "  </tbody>\n",
       "</table>\n",
       "<p>1916 rows × 9 columns</p>\n",
       "</div>"
      ],
      "text/plain": [
       "      pid pref    cid     city      citykana        lat         lng  \\\n",
       "0       1  北海道   1100      札幌市         さっぽろし  43.062089  141.354389   \n",
       "1       1  北海道   1101  札幌市 中央区  さっぽろし ちゅうおうく  43.055386  141.340967   \n",
       "2       1  北海道   1102   札幌市 北区     さっぽろし きたく  43.090793  141.340881   \n",
       "3       1  北海道   1103   札幌市 東区    さっぽろし ひがしく  43.076111  141.363611   \n",
       "4       1  北海道   1104  札幌市 白石区   さっぽろし しろいしく  43.047569  141.405220   \n",
       "...   ...  ...    ...      ...           ...        ...         ...   \n",
       "1911   47  沖縄県  47361     久米島町       くめじまちょう  26.340833  126.805000   \n",
       "1912   47  沖縄県  47362     八重瀬町        やえせちょう  26.121667  127.742500   \n",
       "1913   47  沖縄県  47375     多良間村         たらまそん  24.669444  124.701667   \n",
       "1914   47  沖縄県  47381      竹富町       たけとみちょう  24.339722  124.154444   \n",
       "1915   47  沖縄県  47382     与那国町       よなぐにちょう  24.468056  123.004722   \n",
       "\n",
       "                                         url  \\\n",
       "0               https://www.city.sapporo.jp/   \n",
       "1          https://www.city.sapporo.jp/chuo/   \n",
       "2        https://www.city.sapporo.jp/kitaku/   \n",
       "3       https://www.city.sapporo.jp/higashi/   \n",
       "4     https://www.city.sapporo.jp/shiroishi/   \n",
       "...                                      ...   \n",
       "1911    http://www.town.kumejima.okinawa.jp/   \n",
       "1912           https://www.town.yaese.lg.jp/   \n",
       "1913      http://www.vill.tarama.okinawa.jp/   \n",
       "1914        https://www.town.taketomi.lg.jp/   \n",
       "1915   https://www.town.yonaguni.okinawa.jp/   \n",
       "\n",
       "                                        phrase  \n",
       "0                          市民の力みなぎる、文化と誇りあふれる街  \n",
       "1                                   市電のふるさと中央区  \n",
       "2                                       みてきて北区  \n",
       "3                                     ようこそひがしく  \n",
       "4                                    おもしろいしWEB  \n",
       "...                                        ...  \n",
       "1911       ラムサール条約登録の地　活力・潤い・文化を創造する元気なまち－久米島－  \n",
       "1912               大地の活力とうまんちゅの魂が創り出す自然共生の清らまち  \n",
       "1913  ～南洋に浮かぶ癒しの島～　自らの力を結集し村民参加による心豊かで活力ある村づくり  \n",
       "1914  海と空の真ん中に、笑顔にあふれるふくらしがある。　日本最南端の大自然と文化のまち  \n",
       "1915         日本最西端の島 与那国町　健やかな自然・人・生活を育む島 ドゥナン  \n",
       "\n",
       "[1916 rows x 9 columns]"
      ]
     },
     "execution_count": 2,
     "metadata": {},
     "output_type": "execute_result"
    }
   ],
   "source": [
    "# データの読み込み\n",
    "df = pd.read_csv('localgov.csv')\n",
    "df"
   ]
  },
  {
   "cell_type": "code",
   "execution_count": null,
   "metadata": {},
   "outputs": [],
   "source": [
    "# カロリーが高いのは？\n",
    "df.sort_values('kcal', ascending=False)"
   ]
  },
  {
   "cell_type": "code",
   "execution_count": null,
   "metadata": {},
   "outputs": [],
   "source": [
    "# 最適化で記述しやすいように、辞書にしておきます\n",
    "snack = df.set_index('name').to_dict(orient='index')\n",
    "snack"
   ]
  },
  {
   "cell_type": "code",
   "execution_count": null,
   "metadata": {},
   "outputs": [],
   "source": [
    "# お菓子の名前と属性を指定すれば値を参照できます\n",
    "print(snack['いもりこ']['kcal'])\n",
    "print(snack['いもりこ']['price'])"
   ]
  },
  {
   "cell_type": "markdown",
   "metadata": {},
   "source": [
    "## 最適化モデルの作成\n",
    "いよいよ最適化に入ります。データと予算を渡すと解いた結果を返してくれる関数にしましょう"
   ]
  },
  {
   "cell_type": "code",
   "execution_count": null,
   "metadata": {},
   "outputs": [],
   "source": [
    "def optimize(snack, budget=500):\n",
    "\n",
    "    # モデルのインスタンス化\n",
    "    \n",
    "\n",
    "    # 商品のリスト\n",
    "    \n",
    "\n",
    "    # 決定変数\n",
    "    # お菓子iを入れるか否か\n",
    "   \n",
    "\n",
    "    # 制約条件\n",
    "    # 入れるお菓子の価格の合計が予算を超えない\n",
    "    \n",
    "\n",
    "    # 目的関数\n",
    "    # 入れるお菓子のカロリーの合計\n",
    "    \n",
    "\n",
    "    # 解く\n",
    "    \n",
    "\n",
    "    return 'hoge', 'hoge'"
   ]
  },
  {
   "cell_type": "code",
   "execution_count": null,
   "metadata": {},
   "outputs": [],
   "source": [
    "# 関数を使ってみる\n",
    "x, TotalCal = optimize(snack, 500)\n",
    "TotalCal"
   ]
  },
  {
   "cell_type": "markdown",
   "metadata": {},
   "source": [
    "## 結果の確認"
   ]
  },
  {
   "cell_type": "code",
   "execution_count": null,
   "metadata": {},
   "outputs": [],
   "source": [
    "# どのお菓子を入れるのか、辞書にする\n",
    "solution = {}\n",
    "for i in snack.keys():\n",
    "    solution[i] = x[i].value()\n",
    "\n",
    "solution"
   ]
  },
  {
   "cell_type": "code",
   "execution_count": null,
   "metadata": {},
   "outputs": [],
   "source": [
    "# 最初のデータフレームに追加する\n",
    "df['buy'] = df['name'].map(solution)\n",
    "df"
   ]
  },
  {
   "cell_type": "code",
   "execution_count": null,
   "metadata": {},
   "outputs": [],
   "source": [
    "# コスパを出してみましょう\n",
    "# 多分コスパ高いお菓子が入りやすくなっている　→　貪欲法の話\n",
    "df['kcal_per_price'] = df.kcal / df.price\n",
    "df.sort_values('kcal_per_price', ascending=False)"
   ]
  },
  {
   "cell_type": "code",
   "execution_count": null,
   "metadata": {},
   "outputs": [],
   "source": []
  }
 ],
 "metadata": {
  "interpreter": {
   "hash": "47869785ae8827baf89d30095170178169bd67a09f8d05541fe4e40b59d2fd26"
  },
  "kernelspec": {
   "display_name": "Python 3 (ipykernel)",
   "language": "python",
   "name": "python3"
  },
  "language_info": {
   "codemirror_mode": {
    "name": "ipython",
    "version": 3
   },
   "file_extension": ".py",
   "mimetype": "text/x-python",
   "name": "python",
   "nbconvert_exporter": "python",
   "pygments_lexer": "ipython3",
   "version": "3.7.4"
  }
 },
 "nbformat": 4,
 "nbformat_minor": 2
}
