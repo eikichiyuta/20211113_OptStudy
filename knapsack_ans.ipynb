{
 "cells": [
  {
   "cell_type": "markdown",
   "metadata": {},
   "source": [
    "## 最適化に入る前に\n"
   ]
  },
  {
   "cell_type": "code",
   "execution_count": null,
   "metadata": {},
   "outputs": [],
   "source": [
    "# 普通のリスト\n",
    "list1 = [1, 2, 3, 4, 5]\n",
    "\n",
    "# 各要素を2乗したリストを作る➀\n",
    "list2 = []\n",
    "for i in list1:\n",
    "    list2.append(i**2)\n",
    "\n",
    "list2"
   ]
  },
  {
   "cell_type": "code",
   "execution_count": null,
   "metadata": {},
   "outputs": [],
   "source": [
    "# 各要素を2乗したリストを作る➁\n",
    "list3 = [i**2 for i in list1]\n",
    "list3"
   ]
  },
  {
   "cell_type": "code",
   "execution_count": null,
   "metadata": {},
   "outputs": [],
   "source": [
    "# 辞書\n",
    "# キー：値という関係が保持される\n",
    "price_dict = {\n",
    "    'apple':100,\n",
    "    'banana':200,\n",
    "    'orange':300\n",
    "}\n",
    "\n",
    "# キーを指定すると値を参照できる\n",
    "price_dict['banana']"
   ]
  },
  {
   "cell_type": "code",
   "execution_count": null,
   "metadata": {},
   "outputs": [],
   "source": [
    "# もう一つ作っておく\n",
    "# 数量を表す辞書\n",
    "qty_dict = {\n",
    "    'apple':2,\n",
    "    'banana':4,\n",
    "    'orange':3\n",
    "}\n",
    "\n",
    "qty_dict['banana']"
   ]
  },
  {
   "cell_type": "code",
   "execution_count": null,
   "metadata": {},
   "outputs": [],
   "source": [
    "# キーだけ、値だけを取り出すことも可能\n",
    "fruits = list(qty_dict.keys())\n",
    "fruits"
   ]
  },
  {
   "cell_type": "code",
   "execution_count": null,
   "metadata": {},
   "outputs": [],
   "source": [
    "# 最適化で頻出！積の和をとる\n",
    "# それぞれの果物について価格×数量を計算し、その合計を計算している\n",
    "sum( price_dict[fruit] * qty_dict[fruit] for fruit in fruits )"
   ]
  },
  {
   "cell_type": "markdown",
   "metadata": {},
   "source": [
    "## データの読み込みと加工\n",
    "今回は、架空のお菓子のカロリーと価格が載ったデータを扱います。  \n",
    "数理最適化によって、予算内でなるべくたくさんのカロリーを摂取することを目指します！"
   ]
  },
  {
   "cell_type": "code",
   "execution_count": null,
   "metadata": {},
   "outputs": [],
   "source": [
    "import pandas as pd\n",
    "from pulp import *      # 毎回「pulp.~」と書くのが面倒なのでこうしています"
   ]
  },
  {
   "cell_type": "code",
   "execution_count": null,
   "metadata": {},
   "outputs": [],
   "source": [
    "# データの読み込み\n",
    "df = pd.read_csv('knapsack_data.csv')\n",
    "df"
   ]
  },
  {
   "cell_type": "code",
   "execution_count": null,
   "metadata": {},
   "outputs": [],
   "source": [
    "# カロリーが高いのは？\n",
    "df.sort_values('kcal', ascending=False)"
   ]
  },
  {
   "cell_type": "code",
   "execution_count": null,
   "metadata": {},
   "outputs": [],
   "source": [
    "# 最適化で記述しやすいように、辞書にしておきます\n",
    "snack = df.set_index('name').to_dict(orient='index')\n",
    "snack"
   ]
  },
  {
   "cell_type": "code",
   "execution_count": null,
   "metadata": {},
   "outputs": [],
   "source": [
    "# お菓子の名前と属性を指定すれば値を参照できます\n",
    "print(snack['いもりこ']['kcal'])\n",
    "print(snack['いもりこ']['price'])"
   ]
  },
  {
   "cell_type": "markdown",
   "metadata": {},
   "source": [
    "## 最適化モデルの作成\n",
    "いよいよ最適化に入ります。データと予算を渡すと解いた結果を返してくれる関数にしましょう"
   ]
  },
  {
   "cell_type": "code",
   "execution_count": null,
   "metadata": {},
   "outputs": [],
   "source": [
    "def optimize(snack, budget=500):\n",
    "\n",
    "    # モデルのインスタンス化\n",
    "    model = LpProblem('knapsack', sense=LpMaximize)\n",
    "\n",
    "    # 商品のリスト\n",
    "    items = list(snack.keys())\n",
    "\n",
    "    # 決定変数\n",
    "    # お菓子iを入れるか否か\n",
    "    x = {}\n",
    "    for i in items:\n",
    "        x[i] = LpVariable(f'x({i})', cat='Binary')\n",
    "\n",
    "    # 制約条件\n",
    "    # 入れるお菓子の価格の合計が予算を超えない\n",
    "    model += lpSum( snack[i]['price'] * x[i] for i in items ) <= budget\n",
    "\n",
    "    # 目的関数\n",
    "    # 入れるお菓子のカロリーの合計\n",
    "    model += lpSum( snack[i]['kcal'] * x[i] for i in items )\n",
    "\n",
    "    # 解く\n",
    "    status = model.solve()\n",
    "\n",
    "    return x, model.objective.value()"
   ]
  },
  {
   "cell_type": "code",
   "execution_count": null,
   "metadata": {},
   "outputs": [],
   "source": [
    "# 関数を使ってみる\n",
    "x, TotalCal = optimize(snack, 500)\n",
    "TotalCal"
   ]
  },
  {
   "cell_type": "markdown",
   "metadata": {},
   "source": [
    "## 結果の確認"
   ]
  },
  {
   "cell_type": "code",
   "execution_count": null,
   "metadata": {},
   "outputs": [],
   "source": [
    "# どのお菓子を入れるのか、辞書にする\n",
    "solution = {}\n",
    "for i in snack.keys():\n",
    "    solution[i] = x[i].value()\n",
    "\n",
    "solution"
   ]
  },
  {
   "cell_type": "code",
   "execution_count": null,
   "metadata": {},
   "outputs": [],
   "source": [
    "# 最初のデータフレームに追加する\n",
    "df['buy'] = df['name'].map(solution)\n",
    "df"
   ]
  },
  {
   "cell_type": "code",
   "execution_count": null,
   "metadata": {},
   "outputs": [],
   "source": [
    "# コスパを出してみましょう\n",
    "# 多分コスパ高いお菓子が入りやすくなっている　→　貪欲法の話\n",
    "df['kcal_per_price'] = df.kcal / df.price\n",
    "df.sort_values('kcal_per_price', ascending=False)"
   ]
  },
  {
   "cell_type": "code",
   "execution_count": null,
   "metadata": {},
   "outputs": [],
   "source": []
  }
 ],
 "metadata": {
  "interpreter": {
   "hash": "47869785ae8827baf89d30095170178169bd67a09f8d05541fe4e40b59d2fd26"
  },
  "kernelspec": {
   "display_name": "Python 3.9.6 64-bit ('.venv': poetry)",
   "name": "python3"
  },
  "language_info": {
   "codemirror_mode": {
    "name": "ipython",
    "version": 3
   },
   "file_extension": ".py",
   "mimetype": "text/x-python",
   "name": "python",
   "nbconvert_exporter": "python",
   "pygments_lexer": "ipython3",
   "version": "3.9.6"
  }
 },
 "nbformat": 4,
 "nbformat_minor": 2
}
