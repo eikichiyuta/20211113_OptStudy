{
 "cells": [
  {
   "cell_type": "markdown",
   "metadata": {},
   "source": [
    "## 始めに\n",
    "全国の地方自治体の名称や緯度経度の情報を、[こちら](https://github.com/code4fukui/localgovjp)からダウンロードしたもの(localgov.csv)と、  \n",
    "全ての自治体間の直線距離を事前に計算したもの(disance.csv)を使います。"
   ]
  },
  {
   "cell_type": "code",
   "execution_count": null,
   "metadata": {},
   "outputs": [],
   "source": [
    "import pandas as pd\n",
    "import pulp\n",
    "import matplotlib.pyplot as plt\n",
    "import folium\n",
    "import networkx as nx\n",
    "from pyproj import  Geod"
   ]
  },
  {
   "cell_type": "code",
   "execution_count": null,
   "metadata": {},
   "outputs": [],
   "source": [
    "# 地方自治体のデータ\n",
    "localgov_df = pd.read_csv('localgov.csv', usecols=['pref', 'cid', 'city', 'lat', 'lng'])\n",
    "localgov_df"
   ]
  },
  {
   "cell_type": "code",
   "execution_count": null,
   "metadata": {},
   "outputs": [],
   "source": [
    "# 政令指定都市の場合、「札幌市北区」と「札幌市」が混在しているので、政令指定都市を取り除きます\n",
    "seirei = ('札幌市', '仙台市', 'さいたま市', '千葉市', '横浜市', '川崎市', '相模原市', '新潟市', '静岡市', '浜松市',\n",
    "          '名古屋市', '京都市', '大阪市', '堺市', '神戸市', '岡山市', '広島市', '北九州市', '福岡市', '熊本市')\n",
    "localgov_df = localgov_df[~localgov_df.city.isin(seirei)]"
   ]
  },
  {
   "cell_type": "code",
   "execution_count": null,
   "metadata": {},
   "outputs": [],
   "source": [
    "# 全ての自治体間の距離のデータ(km単位)\n",
    "df = localgov_df.loc[:, ['cid', 'lat', 'lng']]\n",
    "df['key'] = 1\n",
    "df = pd.merge(df, df, on='key', how='outer',suffixes=['1', '2']).drop('key', axis=1)\n",
    "geod = Geod(ellps='WGS84')\n",
    "def get_distance(lat1, lng1, lat2, lng2):\n",
    "    _, _, dist = geod.inv(lng1, lat1, lng2, lat2)\n",
    "    return dist\n",
    "\n",
    "df['distance'] = get_distance(df.lat1.tolist(), df.lng1.tolist(), df.lat2.tolist(), df.lng2.tolist())\n",
    "df.distance = df.distance / 1000\n",
    "distance_df = df.loc[:, ['cid1', 'cid2', 'distance']]\n",
    "del df\n",
    "distance_df\n"
   ]
  },
  {
   "cell_type": "code",
   "execution_count": null,
   "metadata": {},
   "outputs": [],
   "source": [
    "# 特定の都道府県にデータを絞ってみます\n",
    "localgov_df = localgov_df[localgov_df.pref=='千葉県']\n",
    "localgov_df"
   ]
  },
  {
   "cell_type": "code",
   "execution_count": null,
   "metadata": {},
   "outputs": [],
   "source": [
    "# 先ほど絞った都道府県における距離データにします\n",
    "distance_df = distance_df[(distance_df.cid1.isin(localgov_df.cid) & distance_df.cid2.isin(localgov_df.cid))]\n",
    "distance_df"
   ]
  },
  {
   "cell_type": "code",
   "execution_count": null,
   "metadata": {},
   "outputs": [],
   "source": [
    "# 最適化で扱いように、それぞれ辞書にします\n",
    "localgov_dic = localgov_df.set_index('cid').to_dict(orient='index')\n",
    "localgov_dic[12101]"
   ]
  },
  {
   "cell_type": "code",
   "execution_count": null,
   "metadata": {},
   "outputs": [],
   "source": [
    "distance_dic = distance_df.set_index(['cid1', 'cid2']).to_dict(orient='index')\n",
    "distance_dic"
   ]
  },
  {
   "cell_type": "markdown",
   "metadata": {},
   "source": [
    "## 巡回セールスマン問題を厳密解法で解く関数\n",
    "この時間内では実装について触れません"
   ]
  },
  {
   "cell_type": "code",
   "execution_count": null,
   "metadata": {},
   "outputs": [],
   "source": [
    "def solve_tsp(localgov_dic, distance_dic):\n",
    "\n",
    "    nodes = list(localgov_dic.keys())\n",
    "    G = nx.Graph()\n",
    "    G.add_nodes_from(nodes)\n",
    "    edges = [(i, j) for i in nodes for j in nodes if i < j]\n",
    "\n",
    "    # 最適化モデルの定義\n",
    "    model = pulp.LpProblem('', sense=pulp.LpMinimize)\n",
    "\n",
    "    # 決定変数x。枝(i, j)を使うか否か。\n",
    "    x = {(i, j):pulp.LpVariable(f'edge({i}, {j})', cat='Binary') for (i, j) in edges}\n",
    "\n",
    "    # 制約条件。各都市を必ず1度通る。\n",
    "    for i in nodes:\n",
    "        avlbl_edges = [(j, i) for j in nodes if (j, i) in edges] + [(i, j) for j in nodes if (i, j) in edges]\n",
    "        model += pulp.lpSum( x[edge] for edge in avlbl_edges ) == 2\n",
    "\n",
    "    # 目的関数。総距離。\n",
    "    model += pulp.lpSum( distance_dic[i, j]['distance'] * x[i, j] for (i, j) in edges )\n",
    "\n",
    "    # この条件で解く\n",
    "    model.solve()\n",
    "\n",
    "    # 使われる枝\n",
    "    used_edges = [(i, j) for (i, j) in edges if x[i, j].value() > 0.5]\n",
    "    G.add_edges_from(used_edges)\n",
    "\n",
    "    # 部分巡回路除去\n",
    "    CC = list(nx.connected_components(G))\n",
    "    while len(CC) > 1:\n",
    "        for S in CC:\n",
    "            model += pulp.lpSum( x[i, j] for (i, j) in edges if i in S and j in S ) <= len(S) - 1\n",
    "        model.solve()\n",
    "\n",
    "        G.remove_edges_from(used_edges)\n",
    "        used_edges = [(i, j) for (i, j) in edges if x[i, j].value() > 0.5]\n",
    "        G.add_edges_from(used_edges)\n",
    "        CC = list(nx.connected_components(G))\n",
    "\n",
    "    return model.objective.value(), x\n",
    "\n"
   ]
  },
  {
   "cell_type": "code",
   "execution_count": null,
   "metadata": {},
   "outputs": [],
   "source": [
    "# 実際に解く\n",
    "TourLength, x = solve_tsp(localgov_dic, distance_dic)\n",
    "TourLength"
   ]
  },
  {
   "cell_type": "markdown",
   "metadata": {},
   "source": [
    "## 結果の可視化\n",
    "matplotlibを使って、最適なルートを描画します"
   ]
  },
  {
   "cell_type": "code",
   "execution_count": null,
   "metadata": {},
   "outputs": [],
   "source": [
    "# 使われる枝\n",
    "edges = [(i, j) for (i, j) in x if x[i, j].value()==1]\n",
    "# 体裁を整える\n",
    "fig = plt.figure(figsize=(10, 10))\n",
    "plt.xlim([localgov_df.lng.min() - 0.05, localgov_df.lng.max() + 0.05])\n",
    "plt.ylim([localgov_df.lat.min() - 0.05, localgov_df.lat.max() + 0.05])\n",
    "plt.xlabel('longitude')\n",
    "plt.ylabel('latitude')\n",
    "plt.title('Tour')\n",
    "# 都市\n",
    "for i in localgov_dic:\n",
    "    plt.scatter(localgov_dic[i]['lng'], localgov_dic[i]['lat'], color='dimgray')\n",
    "# ルートを引く\n",
    "for (city_i, city_j) in edges:\n",
    "    plt.plot(\n",
    "        [localgov_dic[city_i]['lng'], localgov_dic[city_j]['lng']]\n",
    "        , [localgov_dic[city_i]['lat'], localgov_dic[city_j]['lat']]\n",
    "        , color='royalblue'\n",
    "    )\n",
    "plt.show()"
   ]
  },
  {
   "cell_type": "markdown",
   "metadata": {},
   "source": [
    "Foliumを使って、地図の上にプロットしてみます"
   ]
  },
  {
   "cell_type": "code",
   "execution_count": null,
   "metadata": {},
   "outputs": [],
   "source": [
    "# 下地を用意する。地図の中心の座標や、最初の拡大レベルを指定する\n",
    "tour_map = folium.Map(location=[localgov_df.lat.mean(), localgov_df.lng.mean()], tiles='cartodbpositron', zoom_start=9)\n",
    "# 使われる枝の部分に線を引く\n",
    "for (city_i, city_j) in edges:\n",
    "    # 始点と終点の緯度経度\n",
    "    both_ends = [\n",
    "        [localgov_dic[city_i]['lat'], localgov_dic[city_i]['lng']]\n",
    "        , [localgov_dic[city_j]['lat'], localgov_dic[city_j]['lng']]\n",
    "    ]\n",
    "    # 2点間の線を引く\n",
    "    folium.vector_layers.PolyLine(\n",
    "        locations=both_ends\n",
    "    ).add_to(tour_map)\n",
    "# 各地方自治体の位置にマーカーを置く\n",
    "for city in localgov_dic:\n",
    "    # 1つ1つのマーカー\n",
    "    folium.Circle(\n",
    "        location=[localgov_dic[city]['lat'], localgov_dic[city]['lng']]\n",
    "        , popup=localgov_dic[city]['city']\n",
    "        , radius=800\n",
    "        , fill=True\n",
    "        , fill_color='#706A73'\n",
    "        , color='#706A73'\n",
    "    ).add_to(tour_map)\n",
    "\n",
    "tour_map"
   ]
  },
  {
   "cell_type": "code",
   "execution_count": null,
   "metadata": {},
   "outputs": [],
   "source": []
  }
 ],
 "metadata": {
  "interpreter": {
   "hash": "47869785ae8827baf89d30095170178169bd67a09f8d05541fe4e40b59d2fd26"
  },
  "kernelspec": {
   "display_name": "Python 3.9.6 64-bit ('.venv': poetry)",
   "name": "python3"
  },
  "language_info": {
   "codemirror_mode": {
    "name": "ipython",
    "version": 3
   },
   "file_extension": ".py",
   "mimetype": "text/x-python",
   "name": "python",
   "nbconvert_exporter": "python",
   "pygments_lexer": "ipython3",
   "version": "3.9.6"
  }
 },
 "nbformat": 4,
 "nbformat_minor": 2
}
